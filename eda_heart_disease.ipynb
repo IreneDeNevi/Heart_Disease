{
 "cells": [
  {
   "cell_type": "code",
   "execution_count": null,
   "metadata": {},
   "outputs": [],
   "source": [
    "%pip install pandas\n",
    "%pip install seaborn"
   ]
  },
  {
   "cell_type": "code",
   "execution_count": null,
   "metadata": {},
   "outputs": [],
   "source": [
    "import pandas as pd\n",
    "\n",
    "# Load the dataset\n",
    "file_path = \"data/heart.csv\"\n",
    "data = pd.read_csv(file_path)\n",
    "\n",
    "# Display the first few rows\n",
    "print(data.head())\n",
    "\n",
    "# Check for missing values\n",
    "print(\"\\nMissing values:\\n\", data.isnull().sum())\n",
    "\n",
    "# Separate features (X) and target (y)\n",
    "target_column = \"target\"\n",
    "X = data.drop(columns=[target_column])\n",
    "y = data[target_column]\n",
    "\n",
    "print(\"\\nFeatures:\\n\", X.head())\n",
    "print(\"\\nTarget:\\n\", y.head())\n"
   ]
  },
  {
   "cell_type": "code",
   "execution_count": null,
   "metadata": {},
   "outputs": [],
   "source": [
    "# Data Exploration\n",
    "\n",
    "# Summary statistics\n",
    "print(data.describe())\n",
    "\n",
    "# Check for missing values\n",
    "print(\"\\nMissing Values:\\n\", data.isnull().sum())\n",
    "\n",
    "# Check for duplicate rows\n",
    "duplicates = data.duplicated().sum()\n",
    "print(f\"\\nNumber of Duplicate Rows: {duplicates}\")\n",
    "\n",
    "# Drop duplicate rows\n",
    "data_cleaned = data.drop_duplicates()\n",
    "\n",
    "# Verify duplicates are removed\n",
    "duplicates_after = data_cleaned.duplicated().sum()\n",
    "print(f\"Number of duplicate rows after removal: {duplicates_after}\")\n",
    "\n",
    "# Save the cleaned dataset (optional)\n",
    "data_cleaned.to_csv(\"data/heart_cleaned.csv\", index=False)\n",
    "print(\"Cleaned dataset saved as 'data/heart_cleaned.csv'\")\n"
   ]
  },
  {
   "cell_type": "code",
   "execution_count": null,
   "metadata": {},
   "outputs": [],
   "source": [
    "import matplotlib.pyplot as plt\n",
    "import seaborn as sns\n",
    "\n",
    "# Plot boxplots for numerical columns\n",
    "for column in data.select_dtypes(include=['float64', 'int64']).columns:\n",
    "    plt.figure(figsize=(8, 4))\n",
    "    sns.boxplot(data[column])\n",
    "    plt.title(f\"Boxplot of {column}\")\n",
    "    plt.show()\n"
   ]
  },
  {
   "cell_type": "code",
   "execution_count": null,
   "metadata": {},
   "outputs": [],
   "source": [
    "# Dealing with outliers\n",
    "\n",
    "# Function to detect outliers using IQR\n",
    "def detect_outliers_iqr(df, column):\n",
    "    Q1 = df[column].quantile(0.25)\n",
    "    Q3 = df[column].quantile(0.75)\n",
    "    IQR = Q3 - Q1\n",
    "    lower_bound = Q1 - 1.5 * IQR\n",
    "    upper_bound = Q3 + 1.5 * IQR\n",
    "    return df[(df[column] < lower_bound) | (df[column] > upper_bound)]\n",
    "\n",
    "# Detect outliers for all numerical columns\n",
    "for column in data.select_dtypes(include=['float64', 'int64']).columns:\n",
    "    outliers = detect_outliers_iqr(data, column)\n",
    "    print(f\"Outliers in {column}:\")\n",
    "    print(outliers)\n"
   ]
  },
  {
   "cell_type": "code",
   "execution_count": null,
   "metadata": {},
   "outputs": [],
   "source": [
    "# Define caps for each column\n",
    "caps = {\n",
    "    'chol': 400,        # Max plausible cholesterol level\n",
    "    'trestbps': 180,    # Max plausible resting blood pressure\n",
    "    'thalach': 80,      # Min plausible max heart rate\n",
    "    'oldpeak': 4.0,     # Max ST depression value\n",
    "    'ca': 3             # Max number of major vessels\n",
    "}\n",
    "\n",
    "# Apply capping\n",
    "for column, cap in caps.items():\n",
    "    if column == 'thalach':  # For thalach, cap the minimum\n",
    "        data[column] = data[column].apply(lambda x: cap if x < cap else x)\n",
    "    else:  # For other columns, cap the maximum\n",
    "        data[column] = data[column].apply(lambda x: cap if x > cap else x)\n",
    "\n",
    "# Investigate 'thal' separately\n",
    "data['thal'] = data['thal'].apply(lambda x: None if x == 0 else x)  # Treat '0' as missing\n",
    "\n",
    "# Verify changes\n",
    "print(data.describe())\n"
   ]
  },
  {
   "cell_type": "code",
   "execution_count": null,
   "metadata": {},
   "outputs": [],
   "source": [
    "data.to_csv(\"data/heart_capped.csv\", index=False)\n",
    "print(\"Cleaned dataset saved as 'data/heart_capped.csv'\")\n"
   ]
  }
 ],
 "metadata": {
  "kernelspec": {
   "display_name": "Python 3",
   "language": "python",
   "name": "python3"
  },
  "language_info": {
   "codemirror_mode": {
    "name": "ipython",
    "version": 3
   },
   "file_extension": ".py",
   "mimetype": "text/x-python",
   "name": "python",
   "nbconvert_exporter": "python",
   "pygments_lexer": "ipython3",
   "version": "3.11.9"
  }
 },
 "nbformat": 4,
 "nbformat_minor": 2
}
