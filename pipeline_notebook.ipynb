{
 "cells": [
  {
   "cell_type": "code",
   "execution_count": null,
   "metadata": {},
   "outputs": [],
   "source": [
    "import sys\n",
    "import time\n",
    "import itertools\n",
    "import threading\n",
    "import importlib\n",
    "from automl import AutoML\n",
    "import util\n"
   ]
  },
  {
   "cell_type": "code",
   "execution_count": 2,
   "metadata": {},
   "outputs": [
    {
     "data": {
      "text/plain": [
       "<module 'util' from 'c:\\\\Users\\\\irene\\\\Desktop\\\\Heart_Disease\\\\util.py'>"
      ]
     },
     "execution_count": 2,
     "metadata": {},
     "output_type": "execute_result"
    }
   ],
   "source": [
    "importlib.reload(util)"
   ]
  },
  {
   "cell_type": "code",
   "execution_count": 3,
   "metadata": {},
   "outputs": [],
   "source": [
    "# Logger configuration\n",
    "logger = util.get_logger('PipelineApp', log_file='application.log')"
   ]
  },
  {
   "cell_type": "code",
   "execution_count": 4,
   "metadata": {},
   "outputs": [],
   "source": [
    "def show_loading_message(message=\"Processing, please do not close this window\"):\n",
    "    \"\"\"\n",
    "    Display a loading message with a rotating spinner in the console.\n",
    "    \n",
    "    Args:\n",
    "        message (str): The message to display.\n",
    "    \"\"\"\n",
    "    spinner = itertools.cycle(['-', '\\\\', '|', '/'])  # cycle for the wheel\n",
    "    sys.stdout.write(f\"\\n{message}... \")  # Initial message\n",
    "    sys.stdout.flush()\n",
    "    \n",
    "    try:\n",
    "        while True:\n",
    "            sys.stdout.write(next(spinner))  # Write next symbol\n",
    "            sys.stdout.flush()\n",
    "            time.sleep(0.3)  # Pause for animation's speed\n",
    "            sys.stdout.write('\\b')  # Back to previous character\n",
    "    except KeyboardInterrupt:\n",
    "        sys.stdout.write(\"\\nOperation interrupted by user.\\n\")\n",
    "        sys.stdout.flush()"
   ]
  },
  {
   "cell_type": "code",
   "execution_count": 5,
   "metadata": {},
   "outputs": [],
   "source": [
    "def run_loading(stop_event):\n",
    "    # Use print statements or IPython.display to update loading messages for Jupyter\n",
    "    from IPython.display import display, clear_output\n",
    "    spinner = itertools.cycle(['-', '\\\\', '|', '/'])\n",
    "    loading_message = \"Processing, please do not close this window...\"\n",
    "    while not stop_event.is_set():  # Keep spinning until the stop event is set\n",
    "        display(loading_message + next(spinner))\n",
    "        time.sleep(0.3)\n",
    "        clear_output(wait=True)"
   ]
  },
  {
   "cell_type": "code",
   "execution_count": 6,
   "metadata": {},
   "outputs": [],
   "source": [
    "def main(csv_path, target_column, algorithm, test_size=0.2, random_state=42, cv=5, model_name=\"model\"):\n",
    "    \"\"\"\n",
    "    Function to execute the pipeline in a Jupyter notebook.\n",
    "    \n",
    "    Args:\n",
    "        csv_path (str): Path to the cleaned CSV file\n",
    "        target_column (str): Target column name\n",
    "        algorithm (str): ML algorithm to use\n",
    "        test_size (float): Proportion of test data\n",
    "        random_state (int): Random state for reproducibility\n",
    "        cv (int): Number of cross-validation folds\n",
    "        model_name (str): Name of the resulting model file\n",
    "    \"\"\"\n",
    "    # Create a stop event to signal when to stop the loading spinner\n",
    "    stop_event = threading.Event()\n",
    "\n",
    "    # Run the loading spinner in a separate thread\n",
    "    loading_thread = threading.Thread(target=run_loading, args=(stop_event,))\n",
    "    loading_thread.daemon = True\n",
    "    loading_thread.start()\n",
    "\n",
    "    try:\n",
    "        # Check if mandatory parameters are provided\n",
    "        util.check_mandatory_parameters(csv_path, target_column, algorithm)\n",
    "\n",
    "        # Initialize and train the AutoML model\n",
    "        automl = AutoML()\n",
    "        automl.init(csv_path, target_column, algorithm, random_state, model_name)\n",
    "        results = automl.train_and_evaluate(test_size, random_state, cv)\n",
    "        \n",
    "        # Signal the loading thread to stop\n",
    "        stop_event.set()\n",
    "\n",
    "        # Display completion message\n",
    "        print(\"\\nProcess completed successfully! Check the log file 'application.log' for details.\")\n",
    "    \n",
    "    except Exception as e:\n",
    "        # Signal the loading thread to stop in case of error\n",
    "        stop_event.set()\n",
    "        \n",
    "        # Handle errors\n",
    "        print(\"\\nCritical error! Check the log file 'application.log' for details.\")\n",
    "        logger.critical(\"Critical error in main: %s\", str(e))\n",
    "\n"
   ]
  },
  {
   "cell_type": "code",
   "execution_count": null,
   "metadata": {},
   "outputs": [
    {
     "data": {
      "text/plain": [
       "'Processing, please do not close this window...-'"
      ]
     },
     "metadata": {},
     "output_type": "display_data"
    },
    {
     "name": "stdout",
     "output_type": "stream",
     "text": [
      "\n",
      "Process completed successfully! Check the log file 'application.log' for details.\n"
     ]
    }
   ],
   "source": [
    "# Fill the parameters\n",
    "csv_path = \"csv/heart.csv\"  # Set your actual file path here\n",
    "target_column = \"chol\"  # Set your target column name\n",
    "algorithm = \"LinearRegression\"  # Set the algorithm you want to use\n",
    "\n",
    "# Call the main function\n",
    "main(csv_path, target_column, algorithm,test_size=0.3,cv=5,model_name=\"test\")"
   ]
  }
 ],
 "metadata": {
  "kernelspec": {
   "display_name": "Python 3",
   "language": "python",
   "name": "python3"
  },
  "language_info": {
   "codemirror_mode": {
    "name": "ipython",
    "version": 3
   },
   "file_extension": ".py",
   "mimetype": "text/x-python",
   "name": "python",
   "nbconvert_exporter": "python",
   "pygments_lexer": "ipython3",
   "version": "3.11.9"
  }
 },
 "nbformat": 4,
 "nbformat_minor": 2
}
